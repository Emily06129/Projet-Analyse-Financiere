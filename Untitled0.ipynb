{
  "nbformat": 4,
  "nbformat_minor": 0,
  "metadata": {
    "colab": {
      "provenance": [],
      "authorship_tag": "ABX9TyMijNP4N7Iknu1x4Zp+Y/rw",
      "include_colab_link": true
    },
    "kernelspec": {
      "name": "python3",
      "display_name": "Python 3"
    },
    "language_info": {
      "name": "python"
    }
  },
  "cells": [
    {
      "cell_type": "markdown",
      "metadata": {
        "id": "view-in-github",
        "colab_type": "text"
      },
      "source": [
        "<a href=\"https://colab.research.google.com/github/Emily06129/Projet-Analyse-Financiere/blob/main/Untitled0.ipynb\" target=\"_parent\"><img src=\"https://colab.research.google.com/assets/colab-badge.svg\" alt=\"Open In Colab\"/></a>"
      ]
    },
    {
      "cell_type": "code",
      "execution_count": 1,
      "metadata": {
        "colab": {
          "base_uri": "https://localhost:8080/"
        },
        "id": "v_VEmQntMVt9",
        "outputId": "da6629aa-a5a4-412e-8716-28eb751fd126"
      },
      "outputs": [
        {
          "output_type": "stream",
          "name": "stdout",
          "text": [
            "Requirement already satisfied: yfinance in /usr/local/lib/python3.12/dist-packages (0.2.66)\n",
            "Requirement already satisfied: pandas in /usr/local/lib/python3.12/dist-packages (2.2.2)\n",
            "Requirement already satisfied: matplotlib in /usr/local/lib/python3.12/dist-packages (3.10.0)\n",
            "Requirement already satisfied: seaborn in /usr/local/lib/python3.12/dist-packages (0.13.2)\n",
            "Requirement already satisfied: numpy>=1.16.5 in /usr/local/lib/python3.12/dist-packages (from yfinance) (2.0.2)\n",
            "Requirement already satisfied: requests>=2.31 in /usr/local/lib/python3.12/dist-packages (from yfinance) (2.32.4)\n",
            "Requirement already satisfied: multitasking>=0.0.7 in /usr/local/lib/python3.12/dist-packages (from yfinance) (0.0.12)\n",
            "Requirement already satisfied: platformdirs>=2.0.0 in /usr/local/lib/python3.12/dist-packages (from yfinance) (4.5.0)\n",
            "Requirement already satisfied: pytz>=2022.5 in /usr/local/lib/python3.12/dist-packages (from yfinance) (2025.2)\n",
            "Requirement already satisfied: frozendict>=2.3.4 in /usr/local/lib/python3.12/dist-packages (from yfinance) (2.4.6)\n",
            "Requirement already satisfied: peewee>=3.16.2 in /usr/local/lib/python3.12/dist-packages (from yfinance) (3.18.2)\n",
            "Requirement already satisfied: beautifulsoup4>=4.11.1 in /usr/local/lib/python3.12/dist-packages (from yfinance) (4.13.5)\n",
            "Requirement already satisfied: curl_cffi>=0.7 in /usr/local/lib/python3.12/dist-packages (from yfinance) (0.13.0)\n",
            "Requirement already satisfied: protobuf>=3.19.0 in /usr/local/lib/python3.12/dist-packages (from yfinance) (5.29.5)\n",
            "Requirement already satisfied: websockets>=13.0 in /usr/local/lib/python3.12/dist-packages (from yfinance) (15.0.1)\n",
            "Requirement already satisfied: python-dateutil>=2.8.2 in /usr/local/lib/python3.12/dist-packages (from pandas) (2.9.0.post0)\n",
            "Requirement already satisfied: tzdata>=2022.7 in /usr/local/lib/python3.12/dist-packages (from pandas) (2025.2)\n",
            "Requirement already satisfied: contourpy>=1.0.1 in /usr/local/lib/python3.12/dist-packages (from matplotlib) (1.3.3)\n",
            "Requirement already satisfied: cycler>=0.10 in /usr/local/lib/python3.12/dist-packages (from matplotlib) (0.12.1)\n",
            "Requirement already satisfied: fonttools>=4.22.0 in /usr/local/lib/python3.12/dist-packages (from matplotlib) (4.60.1)\n",
            "Requirement already satisfied: kiwisolver>=1.3.1 in /usr/local/lib/python3.12/dist-packages (from matplotlib) (1.4.9)\n",
            "Requirement already satisfied: packaging>=20.0 in /usr/local/lib/python3.12/dist-packages (from matplotlib) (25.0)\n",
            "Requirement already satisfied: pillow>=8 in /usr/local/lib/python3.12/dist-packages (from matplotlib) (11.3.0)\n",
            "Requirement already satisfied: pyparsing>=2.3.1 in /usr/local/lib/python3.12/dist-packages (from matplotlib) (3.2.5)\n",
            "Requirement already satisfied: soupsieve>1.2 in /usr/local/lib/python3.12/dist-packages (from beautifulsoup4>=4.11.1->yfinance) (2.8)\n",
            "Requirement already satisfied: typing-extensions>=4.0.0 in /usr/local/lib/python3.12/dist-packages (from beautifulsoup4>=4.11.1->yfinance) (4.15.0)\n",
            "Requirement already satisfied: cffi>=1.12.0 in /usr/local/lib/python3.12/dist-packages (from curl_cffi>=0.7->yfinance) (2.0.0)\n",
            "Requirement already satisfied: certifi>=2024.2.2 in /usr/local/lib/python3.12/dist-packages (from curl_cffi>=0.7->yfinance) (2025.10.5)\n",
            "Requirement already satisfied: six>=1.5 in /usr/local/lib/python3.12/dist-packages (from python-dateutil>=2.8.2->pandas) (1.17.0)\n",
            "Requirement already satisfied: charset_normalizer<4,>=2 in /usr/local/lib/python3.12/dist-packages (from requests>=2.31->yfinance) (3.4.4)\n",
            "Requirement already satisfied: idna<4,>=2.5 in /usr/local/lib/python3.12/dist-packages (from requests>=2.31->yfinance) (3.11)\n",
            "Requirement already satisfied: urllib3<3,>=1.21.1 in /usr/local/lib/python3.12/dist-packages (from requests>=2.31->yfinance) (2.5.0)\n",
            "Requirement already satisfied: pycparser in /usr/local/lib/python3.12/dist-packages (from cffi>=1.12.0->curl_cffi>=0.7->yfinance) (2.23)\n"
          ]
        }
      ],
      "source": [
        "!pip install yfinance pandas matplotlib seaborn\n",
        "\n",
        "import yfinance as yf\n",
        "import pandas as pd\n",
        "import matplotlib.pyplot as plt\n",
        "import seaborn as sns\n"
      ]
    },
    {
      "cell_type": "code",
      "source": [
        "# inmport des librairies\n",
        "import pandas as pd\n",
        "import yfinance as yf"
      ],
      "metadata": {
        "id": "HqLWFvz_NTdg"
      },
      "execution_count": 2,
      "outputs": []
    },
    {
      "cell_type": "code",
      "source": [
        "# telechargement des données\n",
        "tesla=yf.Ticker('TSLA')\n",
        "ford=yf.Ticker('F')\n"
      ],
      "metadata": {
        "id": "RkqJejn2Nxqv"
      },
      "execution_count": 3,
      "outputs": []
    },
    {
      "cell_type": "code",
      "source": [
        "tesla.info"
      ],
      "metadata": {
        "colab": {
          "base_uri": "https://localhost:8080/"
        },
        "id": "oSQoJ5m0Pcjt",
        "outputId": "ba13cc72-3c45-4639-e690-032cf7cf3882"
      },
      "execution_count": 4,
      "outputs": [
        {
          "output_type": "execute_result",
          "data": {
            "text/plain": [
              "{'address1': '1 Tesla Road',\n",
              " 'city': 'Austin',\n",
              " 'state': 'TX',\n",
              " 'zip': '78725',\n",
              " 'country': 'United States',\n",
              " 'phone': '512 516 8177',\n",
              " 'website': 'https://www.tesla.com',\n",
              " 'industry': 'Auto Manufacturers',\n",
              " 'industryKey': 'auto-manufacturers',\n",
              " 'industryDisp': 'Auto Manufacturers',\n",
              " 'sector': 'Consumer Cyclical',\n",
              " 'sectorKey': 'consumer-cyclical',\n",
              " 'sectorDisp': 'Consumer Cyclical',\n",
              " 'longBusinessSummary': 'Tesla, Inc. designs, develops, manufactures, leases, and sells electric vehicles, and energy generation and storage systems in the United States, China, and internationally. The company operates in two segments, Automotive; and Energy Generation and Storage. The Automotive segment offers electric vehicles, as well as sells automotive regulatory credits; and non-warranty after-sales vehicle, used vehicles, body shop and parts, supercharging, retail merchandise, and vehicle insurance services. This segment also provides sedans and sport utility vehicles through direct and used vehicle sales, a network of Tesla Superchargers, and in-app upgrades; purchase financing and leasing services; services for electric vehicles through its company-owned service locations and Tesla mobile service technicians; and vehicle limited warranties and extended service plans. The Energy Generation and Storage segment engages in the design, manufacture, installation, sale, and leasing of solar energy generation and energy storage products, and related services to residential, commercial, and industrial customers and utilities through its website, stores, and galleries, as well as through a network of channel partners. This segment also provides services and repairs to its energy product customers, including under warranty; and various financing options to its residential customers. The company was formerly known as Tesla Motors, Inc. and changed its name to Tesla, Inc. in February 2017. Tesla, Inc. was incorporated in 2003 and is headquartered in Austin, Texas.',\n",
              " 'fullTimeEmployees': 125665,\n",
              " 'companyOfficers': [{'maxAge': 1,\n",
              "   'name': 'Mr. Elon R. Musk',\n",
              "   'age': 53,\n",
              "   'title': 'Co-Founder, Technoking of Tesla, CEO & Director',\n",
              "   'yearBorn': 1971,\n",
              "   'fiscalYear': 2024,\n",
              "   'exercisedValue': 0,\n",
              "   'unexercisedValue': 0},\n",
              "  {'maxAge': 1,\n",
              "   'name': 'Mr. Vaibhav  Taneja',\n",
              "   'age': 46,\n",
              "   'title': 'Chief Financial Officer',\n",
              "   'yearBorn': 1978,\n",
              "   'fiscalYear': 2024,\n",
              "   'totalPay': 306846,\n",
              "   'exercisedValue': 9653338,\n",
              "   'unexercisedValue': 347210016},\n",
              "  {'maxAge': 1,\n",
              "   'name': 'Mr. Xiaotong  Zhu',\n",
              "   'age': 44,\n",
              "   'title': 'Senior Vice President of APAC & Global Vehicle Manufacturing',\n",
              "   'yearBorn': 1980,\n",
              "   'fiscalYear': 2024,\n",
              "   'totalPay': 518250,\n",
              "   'exercisedValue': 0,\n",
              "   'unexercisedValue': 697024064},\n",
              "  {'maxAge': 1,\n",
              "   'name': 'Travis  Axelrod',\n",
              "   'title': 'Head of Investor Relations',\n",
              "   'fiscalYear': 2024,\n",
              "   'exercisedValue': 0,\n",
              "   'unexercisedValue': 0},\n",
              "  {'maxAge': 1,\n",
              "   'name': 'Mr. Brandon  Ehrhart',\n",
              "   'title': 'General Counsel & Corporate Secretary',\n",
              "   'fiscalYear': 2024,\n",
              "   'exercisedValue': 0,\n",
              "   'unexercisedValue': 0},\n",
              "  {'maxAge': 1,\n",
              "   'name': 'Mr. Franz  von Holzhausen',\n",
              "   'title': 'Chief Designer',\n",
              "   'fiscalYear': 2024,\n",
              "   'exercisedValue': 0,\n",
              "   'unexercisedValue': 0},\n",
              "  {'maxAge': 1,\n",
              "   'name': 'Mr. John  Walker',\n",
              "   'age': 61,\n",
              "   'title': 'Vice President of Sales - North America',\n",
              "   'yearBorn': 1963,\n",
              "   'fiscalYear': 2024,\n",
              "   'totalPay': 121550,\n",
              "   'exercisedValue': 0,\n",
              "   'unexercisedValue': 0},\n",
              "  {'maxAge': 1,\n",
              "   'name': 'Mr. Rodney D. Westmoreland Jr.',\n",
              "   'title': 'Director of Construction Management',\n",
              "   'fiscalYear': 2024,\n",
              "   'exercisedValue': 0,\n",
              "   'unexercisedValue': 0},\n",
              "  {'maxAge': 1,\n",
              "   'name': 'Mr. Lars  Moravy',\n",
              "   'title': 'Vice President of Vehicle Engineering',\n",
              "   'fiscalYear': 2024,\n",
              "   'exercisedValue': 0,\n",
              "   'unexercisedValue': 0},\n",
              "  {'maxAge': 1,\n",
              "   'name': 'Ashok  Elluswamy',\n",
              "   'title': 'Executive Officer',\n",
              "   'fiscalYear': 2024,\n",
              "   'exercisedValue': 0,\n",
              "   'unexercisedValue': 0}],\n",
              " 'auditRisk': 4,\n",
              " 'boardRisk': 9,\n",
              " 'compensationRisk': 10,\n",
              " 'shareHolderRightsRisk': 9,\n",
              " 'overallRisk': 10,\n",
              " 'governanceEpochDate': 1759276800,\n",
              " 'compensationAsOfEpochDate': 1735603200,\n",
              " 'executiveTeam': [],\n",
              " 'maxAge': 86400,\n",
              " 'priceHint': 2,\n",
              " 'previousClose': 452.42,\n",
              " 'open': 454.6,\n",
              " 'dayLow': 451.6,\n",
              " 'dayHigh': 467.0,\n",
              " 'regularMarketPreviousClose': 452.42,\n",
              " 'regularMarketOpen': 454.6,\n",
              " 'regularMarketDayLow': 451.6,\n",
              " 'regularMarketDayHigh': 467.0,\n",
              " 'payoutRatio': 0.0,\n",
              " 'beta': 2.086,\n",
              " 'trailingPE': 322.06293,\n",
              " 'forwardPE': 142.14505,\n",
              " 'volume': 79752079,\n",
              " 'regularMarketVolume': 79752079,\n",
              " 'averageVolume': 86894325,\n",
              " 'averageVolume10days': 84020890,\n",
              " 'averageDailyVolume10Day': 84020890,\n",
              " 'bid': 441.28,\n",
              " 'ask': 465.0,\n",
              " 'bidSize': 1,\n",
              " 'askSize': 2,\n",
              " 'marketCap': 1531705950208,\n",
              " 'fiftyTwoWeekLow': 214.25,\n",
              " 'fiftyTwoWeekHigh': 488.54,\n",
              " 'allTimeHigh': 488.54,\n",
              " 'allTimeLow': 0.998667,\n",
              " 'priceToSalesTrailing12Months': 16.0165,\n",
              " 'fiftyDayAverage': 400.4354,\n",
              " 'twoHundredDayAverage': 336.0709,\n",
              " 'trailingAnnualDividendRate': 0.0,\n",
              " 'trailingAnnualDividendYield': 0.0,\n",
              " 'currency': 'USD',\n",
              " 'tradeable': False,\n",
              " 'enterpriseValue': 1504593051648,\n",
              " 'profitMargins': 0.05314,\n",
              " 'floatShares': 2809419225,\n",
              " 'sharesOutstanding': 3325819167,\n",
              " 'sharesShort': 72686353,\n",
              " 'sharesShortPriorMonth': 86213226,\n",
              " 'sharesShortPreviousMonthDate': 1757894400,\n",
              " 'dateShortInterest': 1760486400,\n",
              " 'sharesPercentSharesOut': 0.0219,\n",
              " 'heldPercentInsiders': 0.12559,\n",
              " 'heldPercentInstitutions': 0.49394,\n",
              " 'shortRatio': 0.75,\n",
              " 'shortPercentOfFloat': 0.025,\n",
              " 'impliedSharesOutstanding': 3325819167,\n",
              " 'bookValue': 24.058,\n",
              " 'priceToBook': 19.14332,\n",
              " 'lastFiscalYearEnd': 1735603200,\n",
              " 'nextFiscalYearEnd': 1767139200,\n",
              " 'mostRecentQuarter': 1759190400,\n",
              " 'earningsQuarterlyGrowth': -0.368,\n",
              " 'netIncomeToCommon': 5079000064,\n",
              " 'trailingEps': 1.43,\n",
              " 'forwardEps': 3.24,\n",
              " 'lastSplitFactor': '3:1',\n",
              " 'lastSplitDate': 1661385600,\n",
              " 'enterpriseToRevenue': 15.733,\n",
              " 'enterpriseToEbitda': 139.728,\n",
              " '52WeekChange': 0.7566298,\n",
              " 'SandP52WeekChange': 0.18258524,\n",
              " 'quoteType': 'EQUITY',\n",
              " 'currentPrice': 460.55,\n",
              " 'targetHighPrice': 600.0,\n",
              " 'targetLowPrice': 120.0,\n",
              " 'targetMeanPrice': 395.526,\n",
              " 'targetMedianPrice': 430.0,\n",
              " 'recommendationMean': 2.56522,\n",
              " 'recommendationKey': 'hold',\n",
              " 'numberOfAnalystOpinions': 40,\n",
              " 'totalCash': 41647001600,\n",
              " 'totalCashPerShare': 12.522,\n",
              " 'ebitda': 10768000000,\n",
              " 'totalDebt': 13788000256,\n",
              " 'quickRatio': 1.486,\n",
              " 'currentRatio': 2.066,\n",
              " 'totalRevenue': 95632998400,\n",
              " 'debtToEquity': 17.082,\n",
              " 'revenuePerShare': 29.697,\n",
              " 'returnOnAssets': 0.0235,\n",
              " 'returnOnEquity': 0.06791,\n",
              " 'grossProfits': 16263999488,\n",
              " 'freeCashflow': 2979249920,\n",
              " 'operatingCashflow': 15747999744,\n",
              " 'earningsGrowth': -0.371,\n",
              " 'revenueGrowth': 0.116,\n",
              " 'grossMargins': 0.17006999,\n",
              " 'ebitdaMargins': 0.1126,\n",
              " 'operatingMargins': 0.06628,\n",
              " 'financialCurrency': 'USD',\n",
              " 'symbol': 'TSLA',\n",
              " 'language': 'en-US',\n",
              " 'region': 'US',\n",
              " 'typeDisp': 'Equity',\n",
              " 'quoteSourceName': 'Nasdaq Real Time Price',\n",
              " 'triggerable': True,\n",
              " 'customPriceAlertConfidence': 'HIGH',\n",
              " 'exchange': 'NMS',\n",
              " 'messageBoardId': 'finmb_27444752',\n",
              " 'exchangeTimezoneName': 'America/New_York',\n",
              " 'exchangeTimezoneShortName': 'EDT',\n",
              " 'gmtOffSetMilliseconds': -14400000,\n",
              " 'market': 'us_market',\n",
              " 'esgPopulated': False,\n",
              " 'shortName': 'Tesla, Inc.',\n",
              " 'longName': 'Tesla, Inc.',\n",
              " 'regularMarketChangePercent': 1.797,\n",
              " 'regularMarketPrice': 460.55,\n",
              " 'priceEpsCurrentYear': 278.40915,\n",
              " 'fiftyDayAverageChange': 60.114594,\n",
              " 'fiftyDayAverageChangePercent': 0.15012307,\n",
              " 'twoHundredDayAverageChange': 124.479095,\n",
              " 'twoHundredDayAverageChangePercent': 0.37039536,\n",
              " 'sourceInterval': 15,\n",
              " 'exchangeDataDelayedBy': 0,\n",
              " 'averageAnalystRating': '2.6 - Hold',\n",
              " 'cryptoTradeable': False,\n",
              " 'marketState': 'PRE',\n",
              " 'hasPrePostMarketData': True,\n",
              " 'firstTradeDateMilliseconds': 1277818200000,\n",
              " 'preMarketChange': 2.6500244,\n",
              " 'preMarketChangePercent': 0.5754043,\n",
              " 'preMarketPrice': 463.2,\n",
              " 'regularMarketChange': 8.12997,\n",
              " 'regularMarketDayRange': '451.6 - 467.0',\n",
              " 'fullExchangeName': 'NasdaqGS',\n",
              " 'averageDailyVolume3Month': 86894325,\n",
              " 'fiftyTwoWeekLowChange': 246.29999,\n",
              " 'fiftyTwoWeekLowChangePercent': 1.1495916,\n",
              " 'fiftyTwoWeekRange': '214.25 - 488.54',\n",
              " 'fiftyTwoWeekHighChange': -27.99002,\n",
              " 'fiftyTwoWeekHighChangePercent': -0.0572932,\n",
              " 'fiftyTwoWeekChangePercent': 75.66298,\n",
              " 'earningsTimestamp': 1761163200,\n",
              " 'earningsTimestampStart': 1761163200,\n",
              " 'earningsTimestampEnd': 1761163200,\n",
              " 'earningsCallTimestampStart': 1761168600,\n",
              " 'earningsCallTimestampEnd': 1761168600,\n",
              " 'isEarningsDateEstimate': False,\n",
              " 'epsTrailingTwelveMonths': 1.43,\n",
              " 'epsForward': 3.24,\n",
              " 'epsCurrentYear': 1.65422,\n",
              " 'corporateActions': [],\n",
              " 'preMarketTime': 1761729196,\n",
              " 'regularMarketTime': 1761681600,\n",
              " 'displayName': 'Tesla',\n",
              " 'trailingPegRatio': 7.717}"
            ]
          },
          "metadata": {},
          "execution_count": 4
        }
      ]
    },
    {
      "cell_type": "code",
      "source": [
        "# Extraction des etats financiers\n",
        "tesla_income= tesla.financials.T\n",
        "ford_income = ford.financials.T\n",
        "print(tesla_income.head())\n"
      ],
      "metadata": {
        "colab": {
          "base_uri": "https://localhost:8080/"
        },
        "id": "6oAClzjNPwgx",
        "outputId": "8a7afa59-004e-4b46-decd-be18672769c2"
      },
      "execution_count": 6,
      "outputs": [
        {
          "output_type": "stream",
          "name": "stdout",
          "text": [
            "            Tax Effect Of Unusual Items  Tax Rate For Calcs  \\\n",
            "2024-12-31                 -136800000.0                0.20   \n",
            "2023-12-31                          0.0                0.21   \n",
            "2022-12-31                  -14080000.0                0.08   \n",
            "2021-12-31                    2970000.0                0.11   \n",
            "2020-12-31                          NaN                 NaN   \n",
            "\n",
            "            Normalized EBITDA  Total Unusual Items  \\\n",
            "2024-12-31       1.539200e+10         -684000000.0   \n",
            "2023-12-31       1.479600e+10                  0.0   \n",
            "2022-12-31       1.783300e+10         -176000000.0   \n",
            "2021-12-31       9.598000e+09           27000000.0   \n",
            "2020-12-31                NaN                  NaN   \n",
            "\n",
            "            Total Unusual Items Excluding Goodwill  \\\n",
            "2024-12-31                            -684000000.0   \n",
            "2023-12-31                                     0.0   \n",
            "2022-12-31                            -176000000.0   \n",
            "2021-12-31                              27000000.0   \n",
            "2020-12-31                                     NaN   \n",
            "\n",
            "            Net Income From Continuing Operation Net Minority Interest  \\\n",
            "2024-12-31                                       7.130000e+09            \n",
            "2023-12-31                                       1.499900e+10            \n",
            "2022-12-31                                       1.258300e+10            \n",
            "2021-12-31                                       5.524000e+09            \n",
            "2020-12-31                                                NaN            \n",
            "\n",
            "            Reconciled Depreciation  Reconciled Cost Of Revenue        EBITDA  \\\n",
            "2024-12-31             5.368000e+09                8.024000e+10  1.470800e+10   \n",
            "2023-12-31             4.667000e+09                7.911300e+10  1.479600e+10   \n",
            "2022-12-31             3.747000e+09                6.060900e+10  1.765700e+10   \n",
            "2021-12-31             2.911000e+09                4.021700e+10  9.625000e+09   \n",
            "2020-12-31                      NaN                         NaN           NaN   \n",
            "\n",
            "                    EBIT  ...  Interest Expense Non Operating  \\\n",
            "2024-12-31  9.340000e+09  ...                     350000000.0   \n",
            "2023-12-31  1.012900e+10  ...                     156000000.0   \n",
            "2022-12-31  1.391000e+10  ...                     191000000.0   \n",
            "2021-12-31  6.714000e+09  ...                     371000000.0   \n",
            "2020-12-31           NaN  ...                             NaN   \n",
            "\n",
            "            Interest Income Non Operating  Operating Income  \\\n",
            "2024-12-31                   1.569000e+09      7.760000e+09   \n",
            "2023-12-31                   1.066000e+09      8.891000e+09   \n",
            "2022-12-31                   2.970000e+08      1.383200e+10   \n",
            "2021-12-31                   5.600000e+07      6.496000e+09   \n",
            "2020-12-31                            NaN               NaN   \n",
            "\n",
            "            Operating Expense  Research And Development  \\\n",
            "2024-12-31       9.690000e+09              4.540000e+09   \n",
            "2023-12-31       8.769000e+09              3.969000e+09   \n",
            "2022-12-31       7.021000e+09              3.075000e+09   \n",
            "2021-12-31       7.110000e+09              2.593000e+09   \n",
            "2020-12-31                NaN                       NaN   \n",
            "\n",
            "            Selling General And Administration  Gross Profit  Cost Of Revenue  \\\n",
            "2024-12-31                        5.150000e+09  1.745000e+10     8.024000e+10   \n",
            "2023-12-31                        4.800000e+09  1.766000e+10     7.911300e+10   \n",
            "2022-12-31                        3.946000e+09  2.085300e+10     6.060900e+10   \n",
            "2021-12-31                        4.517000e+09  1.360600e+10     4.021700e+10   \n",
            "2020-12-31                                 NaN           NaN              NaN   \n",
            "\n",
            "            Total Revenue  Operating Revenue  \n",
            "2024-12-31   9.769000e+10       9.769000e+10  \n",
            "2023-12-31   9.677300e+10       9.677300e+10  \n",
            "2022-12-31   8.146200e+10       8.146200e+10  \n",
            "2021-12-31   5.382300e+10       5.382300e+10  \n",
            "2020-12-31            NaN                NaN  \n",
            "\n",
            "[5 rows x 47 columns]\n"
          ]
        }
      ]
    },
    {
      "cell_type": "code",
      "source": [
        "tesla_balance= tesla.balance_sheet.T\n",
        "ford_balance= ford.balance_sheet.T\n",
        "print(tesla_balance.head())\n",
        "\n"
      ],
      "metadata": {
        "colab": {
          "base_uri": "https://localhost:8080/"
        },
        "id": "Dg7cD8U-RfgS",
        "outputId": "39f0562f-7814-420b-f783-9cd0f397dd1c"
      },
      "execution_count": 9,
      "outputs": [
        {
          "output_type": "stream",
          "name": "stdout",
          "text": [
            "            Treasury Shares Number  Ordinary Shares Number  Share Issued  \\\n",
            "2024-12-31                     NaN            3.216000e+09  3.216000e+09   \n",
            "2023-12-31                     0.0            3.185000e+09  3.185000e+09   \n",
            "2022-12-31                     NaN            3.164000e+09  3.164000e+09   \n",
            "2021-12-31                     NaN            3.099000e+09  3.099000e+09   \n",
            "2020-12-31                     NaN                     NaN           NaN   \n",
            "\n",
            "              Total Debt  Tangible Book Value  Invested Capital  \\\n",
            "2024-12-31  1.362300e+10         7.144300e+10      8.079100e+10   \n",
            "2023-12-31  9.573000e+09         6.201900e+10      6.729100e+10   \n",
            "2022-12-31  5.748000e+09         4.411100e+10      4.674900e+10   \n",
            "2021-12-31  8.873000e+09         2.847200e+10      3.553100e+10   \n",
            "2020-12-31           NaN                  NaN               NaN   \n",
            "\n",
            "            Working Capital  Net Tangible Assets  Capital Lease Obligations  \\\n",
            "2024-12-31     2.953900e+10         7.144300e+10               5.745000e+09   \n",
            "2023-12-31     2.086800e+10         6.201900e+10               4.916000e+09   \n",
            "2022-12-31     1.420800e+10         4.411100e+10               3.703000e+09   \n",
            "2021-12-31     7.395000e+09         2.847200e+10               3.531000e+09   \n",
            "2020-12-31              NaN                  NaN                        NaN   \n",
            "\n",
            "            Common Stock Equity  ...  Finished Goods  Work In Process  \\\n",
            "2024-12-31         7.291300e+10  ...    3.940000e+09     1.532000e+09   \n",
            "2023-12-31         6.263400e+10  ...    5.049000e+09     2.016000e+09   \n",
            "2022-12-31         4.470400e+10  ...    3.475000e+09     2.385000e+09   \n",
            "2021-12-31         3.018900e+10  ...    1.277000e+09     1.089000e+09   \n",
            "2020-12-31                  NaN  ...             NaN              NaN   \n",
            "\n",
            "            Raw Materials   Receivables  Accounts Receivable  \\\n",
            "2024-12-31   5.242000e+09  4.418000e+09         4.418000e+09   \n",
            "2023-12-31   5.390000e+09  3.508000e+09         3.508000e+09   \n",
            "2022-12-31   6.137000e+09  2.952000e+09         2.952000e+09   \n",
            "2021-12-31   2.816000e+09  1.913000e+09         1.913000e+09   \n",
            "2020-12-31            NaN           NaN                  NaN   \n",
            "\n",
            "            Cash Cash Equivalents And Short Term Investments  \\\n",
            "2024-12-31                                      3.656300e+10   \n",
            "2023-12-31                                      2.909400e+10   \n",
            "2022-12-31                                      2.218500e+10   \n",
            "2021-12-31                                      1.770700e+10   \n",
            "2020-12-31                                               NaN   \n",
            "\n",
            "            Other Short Term Investments  Cash And Cash Equivalents  \\\n",
            "2024-12-31                  2.042400e+10               1.613900e+10   \n",
            "2023-12-31                  1.269600e+10               1.639800e+10   \n",
            "2022-12-31                  5.932000e+09               1.625300e+10   \n",
            "2021-12-31                  1.310000e+08               1.757600e+10   \n",
            "2020-12-31                           NaN                        NaN   \n",
            "\n",
            "            Cash Equivalents  Cash Financial  \n",
            "2024-12-31      1.753000e+09    1.438600e+10  \n",
            "2023-12-31      4.950000e+08    1.590300e+10  \n",
            "2022-12-31      2.288000e+09    1.396500e+10  \n",
            "2021-12-31      9.548000e+09    8.028000e+09  \n",
            "2020-12-31               NaN             NaN  \n",
            "\n",
            "[5 rows x 81 columns]\n"
          ]
        }
      ]
    },
    {
      "cell_type": "code",
      "source": [
        "# on garde uniquement les années\n",
        "tesla_income_year = pd.to_datetime(tesla_income_year).year\n",
        "ford_income_year = pd.to_datetime(ford_income_year).year\n"
      ],
      "metadata": {
        "colab": {
          "base_uri": "https://localhost:8080/",
          "height": 228
        },
        "id": "JAtHU47bRIB_",
        "outputId": "2c9874a8-fec6-4525-8974-05309078902e"
      },
      "execution_count": 10,
      "outputs": [
        {
          "output_type": "error",
          "ename": "NameError",
          "evalue": "name 'tesla_income_year' is not defined",
          "traceback": [
            "\u001b[0;31m---------------------------------------------------------------------------\u001b[0m",
            "\u001b[0;31mNameError\u001b[0m                                 Traceback (most recent call last)",
            "\u001b[0;32m/tmp/ipython-input-4070395342.py\u001b[0m in \u001b[0;36m<cell line: 0>\u001b[0;34m()\u001b[0m\n\u001b[1;32m      1\u001b[0m \u001b[0;31m# on garde uniquement les années\u001b[0m\u001b[0;34m\u001b[0m\u001b[0;34m\u001b[0m\u001b[0m\n\u001b[0;32m----> 2\u001b[0;31m \u001b[0mtesla_income_year\u001b[0m \u001b[0;34m=\u001b[0m \u001b[0mpd\u001b[0m\u001b[0;34m.\u001b[0m\u001b[0mto_datetime\u001b[0m\u001b[0;34m(\u001b[0m\u001b[0mtesla_income_year\u001b[0m\u001b[0;34m)\u001b[0m\u001b[0;34m.\u001b[0m\u001b[0myear\u001b[0m\u001b[0;34m\u001b[0m\u001b[0;34m\u001b[0m\u001b[0m\n\u001b[0m\u001b[1;32m      3\u001b[0m \u001b[0mford_income_year\u001b[0m \u001b[0;34m=\u001b[0m \u001b[0mpd\u001b[0m\u001b[0;34m.\u001b[0m\u001b[0mto_datetime\u001b[0m\u001b[0;34m(\u001b[0m\u001b[0mford_income_year\u001b[0m\u001b[0;34m)\u001b[0m\u001b[0;34m.\u001b[0m\u001b[0myear\u001b[0m\u001b[0;34m\u001b[0m\u001b[0;34m\u001b[0m\u001b[0m\n",
            "\u001b[0;31mNameError\u001b[0m: name 'tesla_income_year' is not defined"
          ]
        }
      ]
    },
    {
      "cell_type": "code",
      "source": [
        "tesla_income.index = pd.to_datetime(tesla_income.index).year\n",
        "ford_income.index = pd.to_datetime(ford_income.index).year"
      ],
      "metadata": {
        "id": "IVG5zTEqWVQN"
      },
      "execution_count": 12,
      "outputs": []
    },
    {
      "cell_type": "code",
      "source": [
        "# Explorer les colonnes disponibles\n",
        "print(\"Tesla Income Columns:\", tesla_income.columns.tolist())\n",
        "print(\"Ford Income Columns:\", ford_income.columns.tolist())\n",
        "print(\"Tesla Balance Sheet Columns:\", tesla_balance.columns.tolist())\n",
        "print(\"Ford Balance Sheet Columns:\", ford_balance.columns.tolist())"
      ],
      "metadata": {
        "colab": {
          "base_uri": "https://localhost:8080/"
        },
        "id": "CSDjk35vXJEz",
        "outputId": "8c65a40d-5395-4c17-bd65-59e98cc1565c"
      },
      "execution_count": 13,
      "outputs": [
        {
          "output_type": "stream",
          "name": "stdout",
          "text": [
            "Tesla Income Columns: ['Tax Effect Of Unusual Items', 'Tax Rate For Calcs', 'Normalized EBITDA', 'Total Unusual Items', 'Total Unusual Items Excluding Goodwill', 'Net Income From Continuing Operation Net Minority Interest', 'Reconciled Depreciation', 'Reconciled Cost Of Revenue', 'EBITDA', 'EBIT', 'Net Interest Income', 'Interest Expense', 'Interest Income', 'Normalized Income', 'Net Income From Continuing And Discontinued Operation', 'Total Expenses', 'Rent Expense Supplemental', 'Total Operating Income As Reported', 'Diluted Average Shares', 'Basic Average Shares', 'Diluted EPS', 'Basic EPS', 'Diluted NI Availto Com Stockholders', 'Average Dilution Earnings', 'Net Income Common Stockholders', 'Otherunder Preferred Stock Dividend', 'Net Income', 'Minority Interests', 'Net Income Including Noncontrolling Interests', 'Net Income Continuous Operations', 'Tax Provision', 'Pretax Income', 'Other Income Expense', 'Other Non Operating Income Expenses', 'Special Income Charges', 'Restructuring And Mergern Acquisition', 'Net Non Operating Interest Income Expense', 'Interest Expense Non Operating', 'Interest Income Non Operating', 'Operating Income', 'Operating Expense', 'Research And Development', 'Selling General And Administration', 'Gross Profit', 'Cost Of Revenue', 'Total Revenue', 'Operating Revenue']\n",
            "Ford Income Columns: ['Tax Effect Of Unusual Items', 'Tax Rate For Calcs', 'Normalized EBITDA', 'Total Unusual Items', 'Total Unusual Items Excluding Goodwill', 'Net Income From Continuing Operation Net Minority Interest', 'Reconciled Depreciation', 'Reconciled Cost Of Revenue', 'EBITDA', 'EBIT', 'Net Interest Income', 'Interest Expense', 'Interest Income', 'Normalized Income', 'Net Income From Continuing And Discontinued Operation', 'Total Expenses', 'Total Operating Income As Reported', 'Diluted Average Shares', 'Basic Average Shares', 'Diluted EPS', 'Basic EPS', 'Diluted NI Availto Com Stockholders', 'Net Income Common Stockholders', 'Net Income', 'Minority Interests', 'Net Income Including Noncontrolling Interests', 'Net Income Continuous Operations', 'Tax Provision', 'Pretax Income', 'Other Income Expense', 'Other Non Operating Income Expenses', 'Special Income Charges', 'Other Special Charges', 'Earnings From Equity Interest', 'Gain On Sale Of Security', 'Net Non Operating Interest Income Expense', 'Interest Expense Non Operating', 'Interest Income Non Operating', 'Operating Income', 'Operating Expense', 'Other Operating Expenses', 'Selling General And Administration', 'Gross Profit', 'Cost Of Revenue', 'Total Revenue', 'Operating Revenue']\n",
            "Tesla Balance Sheet Columns: ['Treasury Shares Number', 'Ordinary Shares Number', 'Share Issued', 'Total Debt', 'Tangible Book Value', 'Invested Capital', 'Working Capital', 'Net Tangible Assets', 'Capital Lease Obligations', 'Common Stock Equity', 'Total Capitalization', 'Total Equity Gross Minority Interest', 'Minority Interest', 'Stockholders Equity', 'Gains Losses Not Affecting Retained Earnings', 'Other Equity Adjustments', 'Retained Earnings', 'Additional Paid In Capital', 'Capital Stock', 'Common Stock', 'Preferred Stock', 'Total Liabilities Net Minority Interest', 'Total Non Current Liabilities Net Minority Interest', 'Other Non Current Liabilities', 'Preferred Securities Outside Stock Equity', 'Non Current Accrued Expenses', 'Non Current Deferred Liabilities', 'Non Current Deferred Revenue', 'Non Current Deferred Taxes Liabilities', 'Long Term Debt And Capital Lease Obligation', 'Long Term Capital Lease Obligation', 'Long Term Debt', 'Long Term Provisions', 'Current Liabilities', 'Other Current Liabilities', 'Current Deferred Liabilities', 'Current Deferred Revenue', 'Current Debt And Capital Lease Obligation', 'Current Capital Lease Obligation', 'Current Debt', 'Other Current Borrowings', 'Line Of Credit', 'Current Provisions', 'Payables And Accrued Expenses', 'Current Accrued Expenses', 'Interest Payable', 'Payables', 'Total Tax Payable', 'Accounts Payable', 'Total Assets', 'Total Non Current Assets', 'Other Non Current Assets', 'Non Current Deferred Assets', 'Non Current Deferred Taxes Assets', 'Goodwill And Other Intangible Assets', 'Other Intangible Assets', 'Goodwill', 'Net PPE', 'Accumulated Depreciation', 'Gross PPE', 'Leases', 'Construction In Progress', 'Other Properties', 'Machinery Furniture Equipment', 'Land And Improvements', 'Properties', 'Current Assets', 'Other Current Assets', 'Prepaid Assets', 'Inventory', 'Other Inventories', 'Finished Goods', 'Work In Process', 'Raw Materials', 'Receivables', 'Accounts Receivable', 'Cash Cash Equivalents And Short Term Investments', 'Other Short Term Investments', 'Cash And Cash Equivalents', 'Cash Equivalents', 'Cash Financial']\n",
            "Ford Balance Sheet Columns: ['Treasury Shares Number', 'Ordinary Shares Number', 'Share Issued', 'Net Debt', 'Total Debt', 'Tangible Book Value', 'Invested Capital', 'Working Capital', 'Net Tangible Assets', 'Capital Lease Obligations', 'Common Stock Equity', 'Total Capitalization', 'Total Equity Gross Minority Interest', 'Minority Interest', 'Stockholders Equity', 'Gains Losses Not Affecting Retained Earnings', 'Other Equity Adjustments', 'Treasury Stock', 'Retained Earnings', 'Additional Paid In Capital', 'Capital Stock', 'Common Stock', 'Total Liabilities Net Minority Interest', 'Total Non Current Liabilities Net Minority Interest', 'Other Non Current Liabilities', 'Derivative Product Liabilities', 'Employee Benefits', 'Non Current Pension And Other Postretirement Benefit Plans', 'Non Current Deferred Liabilities', 'Non Current Deferred Revenue', 'Non Current Deferred Taxes Liabilities', 'Long Term Debt And Capital Lease Obligation', 'Long Term Capital Lease Obligation', 'Long Term Debt', 'Current Liabilities', 'Other Current Liabilities', 'Current Deferred Liabilities', 'Current Deferred Revenue', 'Current Debt And Capital Lease Obligation', 'Current Capital Lease Obligation', 'Current Debt', 'Other Current Borrowings', 'Line Of Credit', 'Pensionand Other Post Retirement Benefit Plans Current', 'Payables And Accrued Expenses', 'Current Accrued Expenses', 'Interest Payable', 'Payables', 'Accounts Payable', 'Total Assets', 'Total Non Current Assets', 'Other Non Current Assets', 'Non Current Deferred Assets', 'Non Current Deferred Taxes Assets', 'Non Current Accounts Receivable', 'Investments And Advances', 'Other Investments', 'Long Term Equity Investment', 'Investmentsin Associatesat Cost', 'Goodwill And Other Intangible Assets', 'Other Intangible Assets', 'Goodwill', 'Net PPE', 'Accumulated Depreciation', 'Gross PPE', 'Construction In Progress', 'Other Properties', 'Machinery Furniture Equipment', 'Buildings And Improvements', 'Land And Improvements', 'Properties', 'Current Assets', 'Other Current Assets', 'Assets Held For Sale Current', 'Inventory', 'Finished Goods', 'Raw Materials', 'Receivables', 'Accounts Receivable', 'Allowance For Doubtful Accounts Receivable', 'Gross Accounts Receivable', 'Cash Cash Equivalents And Short Term Investments', 'Other Short Term Investments', 'Cash And Cash Equivalents', 'Cash Equivalents', 'Cash Financial']\n"
          ]
        }
      ]
    },
    {
      "cell_type": "code",
      "source": [
        "# Tesla : compte de résultat + bilan\n",
        "tesla_summary = tesla_income[['Total Revenue', 'Net Income', 'Operating Income']].copy()\n",
        "tesla_summary['Total Assets'] = tesla_balance['Total Assets']\n",
        "tesla_summary['Total Liabilities'] = tesla_balance['Total Liabilities Net Minority Interest']\n",
        "tesla_summary['Total Equity'] = tesla_balance['Stockholders Equity']\n",
        "\n",
        "# Ford : compte de résultat + bilan\n",
        "ford_summary = ford_income[['Total Revenue', 'Net Income', 'Operating Income']].copy()\n",
        "ford_summary['Total Assets'] = ford_balance['Total Assets']\n",
        "ford_summary['Total Liabilities'] = ford_balance['Total Liabilities Net Minority Interest']\n",
        "ford_summary['Total Equity'] = ford_balance['Stockholders Equity']"
      ],
      "metadata": {
        "colab": {
          "base_uri": "https://localhost:8080/",
          "height": 703
        },
        "id": "V0djQJMyX98F",
        "outputId": "bf2e6483-21a3-48aa-9fae-b3153e501090"
      },
      "execution_count": 14,
      "outputs": [
        {
          "output_type": "error",
          "ename": "KeyError",
          "evalue": "'Total Liabilities'",
          "traceback": [
            "\u001b[0;31m---------------------------------------------------------------------------\u001b[0m",
            "\u001b[0;31mKeyError\u001b[0m                                  Traceback (most recent call last)",
            "\u001b[0;32m/usr/local/lib/python3.12/dist-packages/pandas/core/indexes/base.py\u001b[0m in \u001b[0;36mget_loc\u001b[0;34m(self, key)\u001b[0m\n\u001b[1;32m   3804\u001b[0m         \u001b[0;32mtry\u001b[0m\u001b[0;34m:\u001b[0m\u001b[0;34m\u001b[0m\u001b[0;34m\u001b[0m\u001b[0m\n\u001b[0;32m-> 3805\u001b[0;31m             \u001b[0;32mreturn\u001b[0m \u001b[0mself\u001b[0m\u001b[0;34m.\u001b[0m\u001b[0m_engine\u001b[0m\u001b[0;34m.\u001b[0m\u001b[0mget_loc\u001b[0m\u001b[0;34m(\u001b[0m\u001b[0mcasted_key\u001b[0m\u001b[0;34m)\u001b[0m\u001b[0;34m\u001b[0m\u001b[0;34m\u001b[0m\u001b[0m\n\u001b[0m\u001b[1;32m   3806\u001b[0m         \u001b[0;32mexcept\u001b[0m \u001b[0mKeyError\u001b[0m \u001b[0;32mas\u001b[0m \u001b[0merr\u001b[0m\u001b[0;34m:\u001b[0m\u001b[0;34m\u001b[0m\u001b[0;34m\u001b[0m\u001b[0m\n",
            "\u001b[0;32mindex.pyx\u001b[0m in \u001b[0;36mpandas._libs.index.IndexEngine.get_loc\u001b[0;34m()\u001b[0m\n",
            "\u001b[0;32mindex.pyx\u001b[0m in \u001b[0;36mpandas._libs.index.IndexEngine.get_loc\u001b[0;34m()\u001b[0m\n",
            "\u001b[0;32mpandas/_libs/hashtable_class_helper.pxi\u001b[0m in \u001b[0;36mpandas._libs.hashtable.PyObjectHashTable.get_item\u001b[0;34m()\u001b[0m\n",
            "\u001b[0;32mpandas/_libs/hashtable_class_helper.pxi\u001b[0m in \u001b[0;36mpandas._libs.hashtable.PyObjectHashTable.get_item\u001b[0;34m()\u001b[0m\n",
            "\u001b[0;31mKeyError\u001b[0m: 'Total Liabilities'",
            "\nThe above exception was the direct cause of the following exception:\n",
            "\u001b[0;31mKeyError\u001b[0m                                  Traceback (most recent call last)",
            "\u001b[0;32m/tmp/ipython-input-3540916057.py\u001b[0m in \u001b[0;36m<cell line: 0>\u001b[0;34m()\u001b[0m\n\u001b[1;32m      2\u001b[0m \u001b[0mtesla_summary\u001b[0m \u001b[0;34m=\u001b[0m \u001b[0mtesla_income\u001b[0m\u001b[0;34m[\u001b[0m\u001b[0;34m[\u001b[0m\u001b[0;34m'Total Revenue'\u001b[0m\u001b[0;34m,\u001b[0m \u001b[0;34m'Net Income'\u001b[0m\u001b[0;34m,\u001b[0m \u001b[0;34m'Operating Income'\u001b[0m\u001b[0;34m]\u001b[0m\u001b[0;34m]\u001b[0m\u001b[0;34m.\u001b[0m\u001b[0mcopy\u001b[0m\u001b[0;34m(\u001b[0m\u001b[0;34m)\u001b[0m\u001b[0;34m\u001b[0m\u001b[0;34m\u001b[0m\u001b[0m\n\u001b[1;32m      3\u001b[0m \u001b[0mtesla_summary\u001b[0m\u001b[0;34m[\u001b[0m\u001b[0;34m'Total Assets'\u001b[0m\u001b[0;34m]\u001b[0m \u001b[0;34m=\u001b[0m \u001b[0mtesla_balance\u001b[0m\u001b[0;34m[\u001b[0m\u001b[0;34m'Total Assets'\u001b[0m\u001b[0;34m]\u001b[0m\u001b[0;34m\u001b[0m\u001b[0;34m\u001b[0m\u001b[0m\n\u001b[0;32m----> 4\u001b[0;31m \u001b[0mtesla_summary\u001b[0m\u001b[0;34m[\u001b[0m\u001b[0;34m'Total Liabilities'\u001b[0m\u001b[0;34m]\u001b[0m \u001b[0;34m=\u001b[0m \u001b[0mtesla_balance\u001b[0m\u001b[0;34m[\u001b[0m\u001b[0;34m'Total Liabilities'\u001b[0m\u001b[0;34m]\u001b[0m\u001b[0;34m\u001b[0m\u001b[0;34m\u001b[0m\u001b[0m\n\u001b[0m\u001b[1;32m      5\u001b[0m \u001b[0mtesla_summary\u001b[0m\u001b[0;34m[\u001b[0m\u001b[0;34m'Total Equity'\u001b[0m\u001b[0;34m]\u001b[0m \u001b[0;34m=\u001b[0m \u001b[0mtesla_balance\u001b[0m\u001b[0;34m[\u001b[0m\u001b[0;34m'Total Stockholder Equity'\u001b[0m\u001b[0;34m]\u001b[0m\u001b[0;34m\u001b[0m\u001b[0;34m\u001b[0m\u001b[0m\n\u001b[1;32m      6\u001b[0m \u001b[0;34m\u001b[0m\u001b[0m\n",
            "\u001b[0;32m/usr/local/lib/python3.12/dist-packages/pandas/core/frame.py\u001b[0m in \u001b[0;36m__getitem__\u001b[0;34m(self, key)\u001b[0m\n\u001b[1;32m   4100\u001b[0m             \u001b[0;32mif\u001b[0m \u001b[0mself\u001b[0m\u001b[0;34m.\u001b[0m\u001b[0mcolumns\u001b[0m\u001b[0;34m.\u001b[0m\u001b[0mnlevels\u001b[0m \u001b[0;34m>\u001b[0m \u001b[0;36m1\u001b[0m\u001b[0;34m:\u001b[0m\u001b[0;34m\u001b[0m\u001b[0;34m\u001b[0m\u001b[0m\n\u001b[1;32m   4101\u001b[0m                 \u001b[0;32mreturn\u001b[0m \u001b[0mself\u001b[0m\u001b[0;34m.\u001b[0m\u001b[0m_getitem_multilevel\u001b[0m\u001b[0;34m(\u001b[0m\u001b[0mkey\u001b[0m\u001b[0;34m)\u001b[0m\u001b[0;34m\u001b[0m\u001b[0;34m\u001b[0m\u001b[0m\n\u001b[0;32m-> 4102\u001b[0;31m             \u001b[0mindexer\u001b[0m \u001b[0;34m=\u001b[0m \u001b[0mself\u001b[0m\u001b[0;34m.\u001b[0m\u001b[0mcolumns\u001b[0m\u001b[0;34m.\u001b[0m\u001b[0mget_loc\u001b[0m\u001b[0;34m(\u001b[0m\u001b[0mkey\u001b[0m\u001b[0;34m)\u001b[0m\u001b[0;34m\u001b[0m\u001b[0;34m\u001b[0m\u001b[0m\n\u001b[0m\u001b[1;32m   4103\u001b[0m             \u001b[0;32mif\u001b[0m \u001b[0mis_integer\u001b[0m\u001b[0;34m(\u001b[0m\u001b[0mindexer\u001b[0m\u001b[0;34m)\u001b[0m\u001b[0;34m:\u001b[0m\u001b[0;34m\u001b[0m\u001b[0;34m\u001b[0m\u001b[0m\n\u001b[1;32m   4104\u001b[0m                 \u001b[0mindexer\u001b[0m \u001b[0;34m=\u001b[0m \u001b[0;34m[\u001b[0m\u001b[0mindexer\u001b[0m\u001b[0;34m]\u001b[0m\u001b[0;34m\u001b[0m\u001b[0;34m\u001b[0m\u001b[0m\n",
            "\u001b[0;32m/usr/local/lib/python3.12/dist-packages/pandas/core/indexes/base.py\u001b[0m in \u001b[0;36mget_loc\u001b[0;34m(self, key)\u001b[0m\n\u001b[1;32m   3810\u001b[0m             ):\n\u001b[1;32m   3811\u001b[0m                 \u001b[0;32mraise\u001b[0m \u001b[0mInvalidIndexError\u001b[0m\u001b[0;34m(\u001b[0m\u001b[0mkey\u001b[0m\u001b[0;34m)\u001b[0m\u001b[0;34m\u001b[0m\u001b[0;34m\u001b[0m\u001b[0m\n\u001b[0;32m-> 3812\u001b[0;31m             \u001b[0;32mraise\u001b[0m \u001b[0mKeyError\u001b[0m\u001b[0;34m(\u001b[0m\u001b[0mkey\u001b[0m\u001b[0;34m)\u001b[0m \u001b[0;32mfrom\u001b[0m \u001b[0merr\u001b[0m\u001b[0;34m\u001b[0m\u001b[0;34m\u001b[0m\u001b[0m\n\u001b[0m\u001b[1;32m   3813\u001b[0m         \u001b[0;32mexcept\u001b[0m \u001b[0mTypeError\u001b[0m\u001b[0;34m:\u001b[0m\u001b[0;34m\u001b[0m\u001b[0;34m\u001b[0m\u001b[0m\n\u001b[1;32m   3814\u001b[0m             \u001b[0;31m# If we have a listlike key, _check_indexing_error will raise\u001b[0m\u001b[0;34m\u001b[0m\u001b[0;34m\u001b[0m\u001b[0m\n",
            "\u001b[0;31mKeyError\u001b[0m: 'Total Liabilities'"
          ]
        }
      ]
    },
    {
      "cell_type": "code",
      "source": [
        "# Tesla : compte de résultat + bilan\n",
        "tesla_summary = tesla_income[['Total Revenue', 'Net Income', 'Operating Income']].copy()\n",
        "tesla_summary['Total Assets'] = tesla_balance['Total Assets']\n",
        "tesla_summary['Total Liabilities'] = tesla_balance['Total Liabilities Net Minority Interest']\n",
        "tesla_summary['Total Equity'] = tesla_balance['Stockholders Equity']\n",
        "\n",
        "# Ford : compte de résultat + bilan\n",
        "ford_summary = ford_income[['Total Revenue', 'Net Income', 'Operating Income']].copy()\n",
        "ford_summary['Total Assets'] = ford_balance['Total Assets']\n",
        "ford_summary['Total Liabilities'] = ford_balance['Total Liabilities Net Minority Interest']\n",
        "ford_summary['Total Equity'] = ford_balance['Stockholders Equity']\n"
      ],
      "metadata": {
        "id": "yo1sgm-idf-U"
      },
      "execution_count": 15,
      "outputs": []
    },
    {
      "cell_type": "code",
      "source": [
        "# Sauvegarde des tableaux résumés\n",
        "tesla_summary.to_csv('tesla_summary.csv')\n",
        "ford_summary.to_csv('ford_summary.csv')\n"
      ],
      "metadata": {
        "id": "R5M7Jz41gJP0"
      },
      "execution_count": 16,
      "outputs": []
    },
    {
      "cell_type": "code",
      "source": [
        "print(tesla_check.head())\n",
        "\n"
      ],
      "metadata": {
        "colab": {
          "base_uri": "https://localhost:8080/",
          "height": 193
        },
        "id": "-8VMBbH4gi6P",
        "outputId": "2de97f7d-f7d6-4236-b8df-2fe47f30e55b"
      },
      "execution_count": 17,
      "outputs": [
        {
          "output_type": "error",
          "ename": "NameError",
          "evalue": "name 'tesla_check' is not defined",
          "traceback": [
            "\u001b[0;31m---------------------------------------------------------------------------\u001b[0m",
            "\u001b[0;31mNameError\u001b[0m                                 Traceback (most recent call last)",
            "\u001b[0;32m/tmp/ipython-input-1944194787.py\u001b[0m in \u001b[0;36m<cell line: 0>\u001b[0;34m()\u001b[0m\n\u001b[0;32m----> 1\u001b[0;31m \u001b[0mprint\u001b[0m\u001b[0;34m(\u001b[0m\u001b[0mtesla_check\u001b[0m\u001b[0;34m.\u001b[0m\u001b[0mhead\u001b[0m\u001b[0;34m(\u001b[0m\u001b[0;34m)\u001b[0m\u001b[0;34m)\u001b[0m\u001b[0;34m\u001b[0m\u001b[0;34m\u001b[0m\u001b[0m\n\u001b[0m\u001b[1;32m      2\u001b[0m \u001b[0;34m\u001b[0m\u001b[0m\n",
            "\u001b[0;31mNameError\u001b[0m: name 'tesla_check' is not defined"
          ]
        }
      ]
    },
    {
      "cell_type": "code",
      "source": [
        "tesla_check = pd.read_csv('tesla_summary.csv', index_col=0)\n",
        "print(tesla_check.head())\n"
      ],
      "metadata": {
        "colab": {
          "base_uri": "https://localhost:8080/"
        },
        "id": "xDfZSvo2go0F",
        "outputId": "bee76d2b-5d33-4a8a-e029-67fcb967b9f8"
      },
      "execution_count": 18,
      "outputs": [
        {
          "output_type": "stream",
          "name": "stdout",
          "text": [
            "      Total Revenue    Net Income  Operating Income  Total Assets  \\\n",
            "1970   9.769000e+10  7.130000e+09      7.760000e+09           NaN   \n",
            "1970   9.677300e+10  1.499900e+10      8.891000e+09           NaN   \n",
            "1970   8.146200e+10  1.258300e+10      1.383200e+10           NaN   \n",
            "1970   5.382300e+10  5.524000e+09      6.496000e+09           NaN   \n",
            "1970            NaN           NaN               NaN           NaN   \n",
            "\n",
            "      Total Liabilities  Total Equity  \n",
            "1970                NaN           NaN  \n",
            "1970                NaN           NaN  \n",
            "1970                NaN           NaN  \n",
            "1970                NaN           NaN  \n",
            "1970                NaN           NaN  \n"
          ]
        }
      ]
    },
    {
      "cell_type": "code",
      "source": [
        "# Étape 1 : convertir en datetime\n",
        "tesla_income.index = pd.to_datetime(tesla_income.index, errors='coerce')\n",
        "tesla_balance.index = pd.to_datetime(tesla_balance.index, errors='coerce')\n",
        "\n",
        "# Étape 2 : supprimer les lignes avec dates invalides\n",
        "tesla_income = tesla_income[tesla_income.index.notna()]\n",
        "tesla_balance = tesla_balance[tesla_balance.index.notna()]\n",
        "\n",
        "# Étape 3 : extraire l’année\n",
        "tesla_income.index = tesla_income.index.year\n",
        "tesla_balance.index = tesla_balance.index.year\n",
        "\n"
      ],
      "metadata": {
        "id": "wDEtSErBhs5U"
      },
      "execution_count": 19,
      "outputs": []
    },
    {
      "cell_type": "code",
      "source": [
        "print(tesla_summary.index.unique())\n",
        "print(ford_summary.index.unique())\n",
        "\n"
      ],
      "metadata": {
        "colab": {
          "base_uri": "https://localhost:8080/"
        },
        "id": "FHlltw8Jh2tr",
        "outputId": "b5722721-a4c8-4423-dd0f-f36cf1c70eae"
      },
      "execution_count": 20,
      "outputs": [
        {
          "output_type": "stream",
          "name": "stdout",
          "text": [
            "Index([1970], dtype='int32')\n",
            "Index([2024, 2023, 2022, 2021, 2020], dtype='int32')\n"
          ]
        }
      ]
    },
    {
      "cell_type": "code",
      "source": [
        "# 1. Conversion sécurisée en datetime\n",
        "tesla_income.index = pd.to_datetime(tesla_income.index, errors='coerce')\n",
        "tesla_balance.index = pd.to_datetime(tesla_balance.index, errors='coerce')\n",
        "\n",
        "# 2. Suppression des lignes avec dates invalides\n",
        "tesla_income = tesla_income[tesla_income.index.notna()]\n",
        "tesla_balance = tesla_balance[tesla_balance.index.notna()]\n",
        "\n",
        "# 3. Extraction de l’année\n",
        "tesla_income.index = tesla_income.index.year\n",
        "tesla_balance.index = tesla_balance.index.year\n",
        "print(tesla_income.index.unique())\n"
      ],
      "metadata": {
        "colab": {
          "base_uri": "https://localhost:8080/"
        },
        "id": "wwCk29MbiSVV",
        "outputId": "114db0de-2381-4d09-ffca-6d93f3a481d0"
      },
      "execution_count": 21,
      "outputs": [
        {
          "output_type": "stream",
          "name": "stdout",
          "text": [
            "Index([1970], dtype='int32')\n"
          ]
        }
      ]
    },
    {
      "cell_type": "code",
      "source": [
        "tesla_income.index = pd.to_datetime(tesla_income.index, errors='coerce')\n",
        "tesla_balance.index = pd.to_datetime(tesla_balance.index, errors='coerce')\n",
        "print(tesla_income.index)\n"
      ],
      "metadata": {
        "colab": {
          "base_uri": "https://localhost:8080/"
        },
        "id": "xx45dJRwirnk",
        "outputId": "029f89e8-732f-4865-de47-89c21d1ccf0e"
      },
      "execution_count": 22,
      "outputs": [
        {
          "output_type": "stream",
          "name": "stdout",
          "text": [
            "DatetimeIndex(['1970-01-01 00:00:00.000001970',\n",
            "               '1970-01-01 00:00:00.000001970',\n",
            "               '1970-01-01 00:00:00.000001970',\n",
            "               '1970-01-01 00:00:00.000001970',\n",
            "               '1970-01-01 00:00:00.000001970'],\n",
            "              dtype='datetime64[ns]', freq=None)\n"
          ]
        }
      ]
    },
    {
      "cell_type": "code",
      "source": [
        "# Conversion en datetime sans extraire l'année\n",
        "tesla_income.index = pd.to_datetime(tesla_income.index, errors='coerce')\n",
        "tesla_balance.index = pd.to_datetime(tesla_balance.index, errors='coerce')\n",
        "\n",
        "# Filtrer les dates valides\n",
        "tesla_income = tesla_income[tesla_income.index.notna()]\n",
        "tesla_balance = tesla_balance[tesla_balance.index.notna()]\n"
      ],
      "metadata": {
        "id": "CMzR3RDZjCyG"
      },
      "execution_count": 23,
      "outputs": []
    },
    {
      "cell_type": "code",
      "source": [
        "print(tesla_income.index)\n"
      ],
      "metadata": {
        "colab": {
          "base_uri": "https://localhost:8080/"
        },
        "id": "ERE-1nUrjFYP",
        "outputId": "6aaca5da-2f02-46d0-9daa-fa3fc213cbf0"
      },
      "execution_count": 24,
      "outputs": [
        {
          "output_type": "stream",
          "name": "stdout",
          "text": [
            "DatetimeIndex(['1970-01-01 00:00:00.000001970',\n",
            "               '1970-01-01 00:00:00.000001970',\n",
            "               '1970-01-01 00:00:00.000001970',\n",
            "               '1970-01-01 00:00:00.000001970',\n",
            "               '1970-01-01 00:00:00.000001970'],\n",
            "              dtype='datetime64[ns]', freq=None)\n"
          ]
        }
      ]
    },
    {
      "cell_type": "code",
      "source": [
        "dates = pd.to_datetime([\n",
        "    '2024-12-31',\n",
        "    '2023-12-31',\n",
        "    '2022-12-31',\n",
        "    '2021-12-31',\n",
        "    '2020-12-31'\n",
        "])\n",
        "\n",
        "tesla_income.index = dates\n",
        "tesla_balance.index = dates\n",
        "print(tesla_income.index)\n"
      ],
      "metadata": {
        "colab": {
          "base_uri": "https://localhost:8080/"
        },
        "id": "NbjC6HIUj_hC",
        "outputId": "9948da9c-cac0-4f75-d88a-a6503cbd9a50"
      },
      "execution_count": 26,
      "outputs": [
        {
          "output_type": "stream",
          "name": "stdout",
          "text": [
            "DatetimeIndex(['2024-12-31', '2023-12-31', '2022-12-31', '2021-12-31',\n",
            "               '2020-12-31'],\n",
            "              dtype='datetime64[ns]', freq=None)\n"
          ]
        }
      ]
    },
    {
      "cell_type": "code",
      "source": [
        "# Tesla : compte de résultat + bilan\n",
        "tesla_summary = tesla_income[['Total Revenue', 'Net Income', 'Operating Income']].copy()\n",
        "tesla_summary['Total Assets'] = tesla_balance['Total Assets']\n",
        "tesla_summary['Total Liabilities'] = tesla_balance['Total Liabilities Net Minority Interest']\n",
        "tesla_summary['Total Equity'] = tesla_balance['Stockholders Equity']\n",
        "tesla_summary.to_csv('tesla_summary_fixed.csv')\n",
        "print(tesla_summary.head())\n",
        "\n"
      ],
      "metadata": {
        "colab": {
          "base_uri": "https://localhost:8080/"
        },
        "id": "C65d4aNGkN-g",
        "outputId": "181b5b0a-a48f-4bec-bfba-d94a17658aad"
      },
      "execution_count": 29,
      "outputs": [
        {
          "output_type": "stream",
          "name": "stdout",
          "text": [
            "            Total Revenue    Net Income  Operating Income  Total Assets  \\\n",
            "2024-12-31   9.769000e+10  7.130000e+09      7.760000e+09  1.220700e+11   \n",
            "2023-12-31   9.677300e+10  1.499900e+10      8.891000e+09  1.066180e+11   \n",
            "2022-12-31   8.146200e+10  1.258300e+10      1.383200e+10  8.233800e+10   \n",
            "2021-12-31   5.382300e+10  5.524000e+09      6.496000e+09  6.213100e+10   \n",
            "2020-12-31            NaN           NaN               NaN           NaN   \n",
            "\n",
            "            Total Liabilities  Total Equity  \n",
            "2024-12-31       4.839000e+10  7.291300e+10  \n",
            "2023-12-31       4.300900e+10  6.263400e+10  \n",
            "2022-12-31       3.644000e+10  4.470400e+10  \n",
            "2021-12-31       3.054800e+10  3.018900e+10  \n",
            "2020-12-31                NaN           NaN  \n"
          ]
        }
      ]
    },
    {
      "cell_type": "code",
      "source": [
        "tesla_summary = tesla_summary.dropna(how='all')\n",
        "# Tesla : compte de résultat + bilan\n",
        "tesla_summary = tesla_income[['Total Revenue', 'Net Income', 'Operating Income']].copy()\n",
        "tesla_summary['Total Assets'] = tesla_balance['Total Assets']\n",
        "tesla_summary['Total Liabilities'] = tesla_balance['Total Liabilities Net Minority Interest']\n",
        "tesla_summary['Total Equity'] = tesla_balance['Stockholders Equity']\n",
        "tesla_summary.to_csv('tesla_summary_fixed.csv')\n",
        "print(tesla_summary.head())"
      ],
      "metadata": {
        "colab": {
          "base_uri": "https://localhost:8080/"
        },
        "id": "rRZRv3qIk0uK",
        "outputId": "823c2d5d-d30b-47cf-80a6-e9e327068901"
      },
      "execution_count": 31,
      "outputs": [
        {
          "output_type": "stream",
          "name": "stdout",
          "text": [
            "            Total Revenue    Net Income  Operating Income  Total Assets  \\\n",
            "2024-12-31   9.769000e+10  7.130000e+09      7.760000e+09  1.220700e+11   \n",
            "2023-12-31   9.677300e+10  1.499900e+10      8.891000e+09  1.066180e+11   \n",
            "2022-12-31   8.146200e+10  1.258300e+10      1.383200e+10  8.233800e+10   \n",
            "2021-12-31   5.382300e+10  5.524000e+09      6.496000e+09  6.213100e+10   \n",
            "2020-12-31            NaN           NaN               NaN           NaN   \n",
            "\n",
            "            Total Liabilities  Total Equity  \n",
            "2024-12-31       4.839000e+10  7.291300e+10  \n",
            "2023-12-31       4.300900e+10  6.263400e+10  \n",
            "2022-12-31       3.644000e+10  4.470400e+10  \n",
            "2021-12-31       3.054800e+10  3.018900e+10  \n",
            "2020-12-31                NaN           NaN  \n"
          ]
        }
      ]
    },
    {
      "cell_type": "code",
      "source": [
        "tesla_summary = tesla_summary.dropna(how='all')\n"
      ],
      "metadata": {
        "id": "jYeMsHARlD7R"
      },
      "execution_count": 32,
      "outputs": []
    },
    {
      "cell_type": "code",
      "source": [
        "# Tesla : compte de résultat + bilan\n",
        "tesla_summary = tesla_income[['Total Revenue', 'Net Income', 'Operating Income']].copy()\n",
        "tesla_summary['Total Assets'] = tesla_balance['Total Assets']\n",
        "tesla_summary['Total Liabilities'] = tesla_balance['Total Liabilities Net Minority Interest']\n",
        "tesla_summary['Total Equity'] = tesla_balance['Stockholders Equity']\n",
        "tesla_summary.to_csv('tesla_summary_fixed.csv')\n",
        "print(tesla_summary.head())"
      ],
      "metadata": {
        "colab": {
          "base_uri": "https://localhost:8080/"
        },
        "id": "G_KKy5TTlFh6",
        "outputId": "8fd8e0b6-dcef-402d-de91-20ee32f38ea6"
      },
      "execution_count": 33,
      "outputs": [
        {
          "output_type": "stream",
          "name": "stdout",
          "text": [
            "            Total Revenue    Net Income  Operating Income  Total Assets  \\\n",
            "2024-12-31   9.769000e+10  7.130000e+09      7.760000e+09  1.220700e+11   \n",
            "2023-12-31   9.677300e+10  1.499900e+10      8.891000e+09  1.066180e+11   \n",
            "2022-12-31   8.146200e+10  1.258300e+10      1.383200e+10  8.233800e+10   \n",
            "2021-12-31   5.382300e+10  5.524000e+09      6.496000e+09  6.213100e+10   \n",
            "2020-12-31            NaN           NaN               NaN           NaN   \n",
            "\n",
            "            Total Liabilities  Total Equity  \n",
            "2024-12-31       4.839000e+10  7.291300e+10  \n",
            "2023-12-31       4.300900e+10  6.263400e+10  \n",
            "2022-12-31       3.644000e+10  4.470400e+10  \n",
            "2021-12-31       3.054800e+10  3.018900e+10  \n",
            "2020-12-31                NaN           NaN  \n"
          ]
        }
      ]
    },
    {
      "cell_type": "code",
      "source": [
        "tesla_summary = tesla_summary.dropna(axis=1, how='all')\n"
      ],
      "metadata": {
        "id": "IJuvWbnxlg33"
      },
      "execution_count": 34,
      "outputs": []
    },
    {
      "cell_type": "code",
      "source": [
        "# Tesla : compte de résultat + bilan\n",
        "tesla_summary = tesla_income[['Total Revenue', 'Net Income', 'Operating Income']].copy()\n",
        "tesla_summary['Total Assets'] = tesla_balance['Total Assets']\n",
        "tesla_summary['Total Liabilities'] = tesla_balance['Total Liabilities Net Minority Interest']\n",
        "tesla_summary['Total Equity'] = tesla_balance['Stockholders Equity']\n",
        "tesla_summary.to_csv('tesla_summary_fixed.csv')\n",
        "print(tesla_summary.head())"
      ],
      "metadata": {
        "colab": {
          "base_uri": "https://localhost:8080/"
        },
        "id": "UW22ReHplkT8",
        "outputId": "7e957012-8666-4e00-96ce-df41daa02d40"
      },
      "execution_count": 35,
      "outputs": [
        {
          "output_type": "stream",
          "name": "stdout",
          "text": [
            "            Total Revenue    Net Income  Operating Income  Total Assets  \\\n",
            "2024-12-31   9.769000e+10  7.130000e+09      7.760000e+09  1.220700e+11   \n",
            "2023-12-31   9.677300e+10  1.499900e+10      8.891000e+09  1.066180e+11   \n",
            "2022-12-31   8.146200e+10  1.258300e+10      1.383200e+10  8.233800e+10   \n",
            "2021-12-31   5.382300e+10  5.524000e+09      6.496000e+09  6.213100e+10   \n",
            "2020-12-31            NaN           NaN               NaN           NaN   \n",
            "\n",
            "            Total Liabilities  Total Equity  \n",
            "2024-12-31       4.839000e+10  7.291300e+10  \n",
            "2023-12-31       4.300900e+10  6.263400e+10  \n",
            "2022-12-31       3.644000e+10  4.470400e+10  \n",
            "2021-12-31       3.054800e+10  3.018900e+10  \n",
            "2020-12-31                NaN           NaN  \n"
          ]
        }
      ]
    },
    {
      "cell_type": "code",
      "source": [
        "tesla_summary = tesla_summary.dropna(subset=['Total Revenue', 'Net Income', 'Total Assets'])\n",
        "print(tesla_summary.head())"
      ],
      "metadata": {
        "colab": {
          "base_uri": "https://localhost:8080/"
        },
        "id": "QTiwIw3Gl2wJ",
        "outputId": "19bb8152-3bde-44fd-b314-f420693ab0de"
      },
      "execution_count": 37,
      "outputs": [
        {
          "output_type": "stream",
          "name": "stdout",
          "text": [
            "            Total Revenue    Net Income  Operating Income  Total Assets  \\\n",
            "2024-12-31   9.769000e+10  7.130000e+09      7.760000e+09  1.220700e+11   \n",
            "2023-12-31   9.677300e+10  1.499900e+10      8.891000e+09  1.066180e+11   \n",
            "2022-12-31   8.146200e+10  1.258300e+10      1.383200e+10  8.233800e+10   \n",
            "2021-12-31   5.382300e+10  5.524000e+09      6.496000e+09  6.213100e+10   \n",
            "\n",
            "            Total Liabilities  Total Equity  \n",
            "2024-12-31       4.839000e+10  7.291300e+10  \n",
            "2023-12-31       4.300900e+10  6.263400e+10  \n",
            "2022-12-31       3.644000e+10  4.470400e+10  \n",
            "2021-12-31       3.054800e+10  3.018900e+10  \n"
          ]
        }
      ]
    },
    {
      "cell_type": "code",
      "source": [
        "tesla_summary.to_csv('tesla_summary_fixed.csv')\n"
      ],
      "metadata": {
        "id": "R6w2yrCQmNJr"
      },
      "execution_count": 38,
      "outputs": []
    },
    {
      "cell_type": "code",
      "source": [
        "\n",
        "\n",
        "tesla_check = pd.read_csv('tesla_summary_fixed.csv', index_col=0)\n",
        "print(tesla_check)\n"
      ],
      "metadata": {
        "colab": {
          "base_uri": "https://localhost:8080/"
        },
        "id": "Kas-GJNemZ4y",
        "outputId": "1a1350db-15df-4e1f-d658-63b6b302b359"
      },
      "execution_count": 39,
      "outputs": [
        {
          "output_type": "stream",
          "name": "stdout",
          "text": [
            "            Total Revenue    Net Income  Operating Income  Total Assets  \\\n",
            "2024-12-31   9.769000e+10  7.130000e+09      7.760000e+09  1.220700e+11   \n",
            "2023-12-31   9.677300e+10  1.499900e+10      8.891000e+09  1.066180e+11   \n",
            "2022-12-31   8.146200e+10  1.258300e+10      1.383200e+10  8.233800e+10   \n",
            "2021-12-31   5.382300e+10  5.524000e+09      6.496000e+09  6.213100e+10   \n",
            "\n",
            "            Total Liabilities  Total Equity  \n",
            "2024-12-31       4.839000e+10  7.291300e+10  \n",
            "2023-12-31       4.300900e+10  6.263400e+10  \n",
            "2022-12-31       3.644000e+10  4.470400e+10  \n",
            "2021-12-31       3.054800e+10  3.018900e+10  \n"
          ]
        }
      ]
    },
    {
      "cell_type": "code",
      "source": [
        "print(ford_summary.head())"
      ],
      "metadata": {
        "colab": {
          "base_uri": "https://localhost:8080/"
        },
        "id": "RtTDKqtrmvQ9",
        "outputId": "2a2b35ae-775a-421c-ebb4-7406b8f6be86"
      },
      "execution_count": 40,
      "outputs": [
        {
          "output_type": "stream",
          "name": "stdout",
          "text": [
            "      Total Revenue    Net Income  Operating Income  Total Assets  \\\n",
            "2024   1.849920e+11  5.879000e+09      5.219000e+09           NaN   \n",
            "2023   1.761910e+11  4.347000e+09      5.458000e+09           NaN   \n",
            "2022   1.580570e+11 -1.981000e+09      6.276000e+09           NaN   \n",
            "2021   1.363410e+11  1.793700e+10      4.523000e+09           NaN   \n",
            "2020            NaN           NaN               NaN           NaN   \n",
            "\n",
            "      Total Liabilities  Total Equity  \n",
            "2024                NaN           NaN  \n",
            "2023                NaN           NaN  \n",
            "2022                NaN           NaN  \n",
            "2021                NaN           NaN  \n",
            "2020                NaN           NaN  \n"
          ]
        }
      ]
    },
    {
      "cell_type": "code",
      "source": [
        "ford = yf.Ticker(\"F\")\n",
        "ford_income = ford.financials\n",
        "ford_balance = ford.balance_sheet\n"
      ],
      "metadata": {
        "id": "rkTTACwbnqm2"
      },
      "execution_count": 41,
      "outputs": []
    },
    {
      "cell_type": "code",
      "source": [
        "print(ford_income.head())\n",
        "print(ford_balance.head())\n"
      ],
      "metadata": {
        "colab": {
          "base_uri": "https://localhost:8080/"
        },
        "id": "EtUgpSj8oLoG",
        "outputId": "df1b9d19-2696-46b9-ee92-ba7ef9620b82"
      },
      "execution_count": 42,
      "outputs": [
        {
          "output_type": "stream",
          "name": "stdout",
          "text": [
            "                                          2024-12-31    2023-12-31  \\\n",
            "Tax Effect Of Unusual Items            -7.770000e+06 -4.305000e+07   \n",
            "Tax Rate For Calcs                      1.850000e-01  2.100000e-01   \n",
            "Normalized EBITDA                       1.427800e+10  1.201300e+10   \n",
            "Total Unusual Items                    -4.200000e+07 -2.050000e+08   \n",
            "Total Unusual Items Excluding Goodwill -4.200000e+07 -2.050000e+08   \n",
            "\n",
            "                                          2022-12-31    2021-12-31  2020-12-31  \n",
            "Tax Effect Of Unusual Items            -2.150148e+09  2.013390e+09         NaN  \n",
            "Tax Rate For Calcs                      2.860000e-01  2.700000e-01         NaN  \n",
            "Normalized EBITDA                       1.227700e+10  1.808600e+10         NaN  \n",
            "Total Unusual Items                    -7.518000e+09  7.457000e+09         NaN  \n",
            "Total Unusual Items Excluding Goodwill -7.518000e+09  7.457000e+09         NaN  \n",
            "                          2024-12-31    2023-12-31    2022-12-31  \\\n",
            "Treasury Shares Number           NaN  0.000000e+00           NaN   \n",
            "Ordinary Shares Number  3.963445e+09  3.973624e+09  3.999960e+09   \n",
            "Share Issued            3.963445e+09  3.973624e+09  3.999960e+09   \n",
            "Net Debt                1.355870e+11  1.243690e+11  1.138350e+11   \n",
            "Total Debt              1.608620e+11  1.511070e+11  1.404740e+11   \n",
            "\n",
            "                          2021-12-31  2020-12-31  \n",
            "Treasury Shares Number           NaN         NaN  \n",
            "Ordinary Shares Number  4.121000e+09         NaN  \n",
            "Share Issued            4.121000e+09         NaN  \n",
            "Net Debt                1.175520e+11         NaN  \n",
            "Total Debt              1.394850e+11         NaN  \n"
          ]
        }
      ]
    },
    {
      "cell_type": "code",
      "source": [
        "toyota = yf.Ticker(\"TM\")\n",
        "toyota_income = toyota.financials\n",
        "toyota_balance = toyota.balance_sheet\n",
        "print(toyota_income.head())\n"
      ],
      "metadata": {
        "colab": {
          "base_uri": "https://localhost:8080/"
        },
        "id": "VP7PmZYmoseo",
        "outputId": "f17a9c05-15b9-4827-da86-921f6dfc8201"
      },
      "execution_count": 44,
      "outputs": [
        {
          "output_type": "stream",
          "name": "stdout",
          "text": [
            "                                          2025-03-31    2024-03-31  \\\n",
            "Tax Effect Of Unusual Items             2.089089e+11  8.561091e+10   \n",
            "Tax Rate For Calcs                      2.530000e-01  2.720000e-01   \n",
            "Normalized EBITDA                       7.924202e+12  8.802138e+12   \n",
            "Total Unusual Items                     8.257270e+11  3.147460e+11   \n",
            "Total Unusual Items Excluding Goodwill  8.257270e+11  3.147460e+11   \n",
            "\n",
            "                                          2023-03-31    2022-03-31  2021-03-31  \n",
            "Tax Effect Of Unusual Items             7.482368e+10  8.708560e+10         NaN  \n",
            "Tax Rate For Calcs                      3.200000e-01  2.800000e-01         NaN  \n",
            "Normalized EBITDA                       5.522169e+12  5.533850e+12         NaN  \n",
            "Total Unusual Items                     2.338240e+11  3.110200e+11         NaN  \n",
            "Total Unusual Items Excluding Goodwill  2.338240e+11  3.110200e+11         NaN  \n"
          ]
        }
      ]
    },
    {
      "cell_type": "code",
      "source": [
        "import yfinance as yf\n",
        "\n",
        "gm = yf.Ticker(\"GM\")\n",
        "gm_income = gm.financials\n",
        "gm_balance = gm.balance_sheet\n"
      ],
      "metadata": {
        "id": "HZJ3O9AHpVgZ"
      },
      "execution_count": 45,
      "outputs": []
    },
    {
      "cell_type": "markdown",
      "source": [
        "gm_balance = ford.balance_sheet\n"
      ],
      "metadata": {
        "id": "79rZe2W5pXSP"
      }
    },
    {
      "cell_type": "code",
      "source": [
        "print(gm_income.head())\n"
      ],
      "metadata": {
        "colab": {
          "base_uri": "https://localhost:8080/"
        },
        "id": "E7tSx3Typm7w",
        "outputId": "42925a34-c9d4-4f1a-f68f-b74cb679d74f"
      },
      "execution_count": 47,
      "outputs": [
        {
          "output_type": "stream",
          "name": "stdout",
          "text": [
            "                                          2024-12-31    2023-12-31  \\\n",
            "Tax Effect Of Unusual Items            -6.750000e+07 -4.158000e+06   \n",
            "Tax Rate For Calcs                      3.000000e-01  5.400000e-02   \n",
            "Normalized EBITDA                       2.197900e+10  2.327900e+10   \n",
            "Total Unusual Items                    -2.250000e+08 -7.700000e+07   \n",
            "Total Unusual Items Excluding Goodwill -2.250000e+08 -7.700000e+07   \n",
            "\n",
            "                                          2022-12-31    2021-12-31  2020-12-31  \n",
            "Tax Effect Of Unusual Items            -3.846800e+07  1.244780e+08         NaN  \n",
            "Tax Rate For Calcs                      1.630000e-01  2.180000e-01         NaN  \n",
            "Normalized EBITDA                       2.411000e+10  2.514600e+10         NaN  \n",
            "Total Unusual Items                    -2.360000e+08  5.710000e+08         NaN  \n",
            "Total Unusual Items Excluding Goodwill -2.360000e+08  5.710000e+08         NaN  \n"
          ]
        }
      ]
    },
    {
      "cell_type": "code",
      "source": [
        "print(gm_balance.head())\n"
      ],
      "metadata": {
        "colab": {
          "base_uri": "https://localhost:8080/"
        },
        "id": "rsU8pAH-pm4Z",
        "outputId": "52bd306d-2222-48f2-deb2-df1a07df0c94"
      },
      "execution_count": 48,
      "outputs": [
        {
          "output_type": "stream",
          "name": "stdout",
          "text": [
            "                          2024-12-31    2023-12-31    2022-12-31  \\\n",
            "Treasury Shares Number           NaN  0.000000e+00           NaN   \n",
            "Ordinary Shares Number  3.963445e+09  3.973624e+09  3.999960e+09   \n",
            "Share Issued            3.963445e+09  3.973624e+09  3.999960e+09   \n",
            "Net Debt                1.355870e+11  1.243690e+11  1.138350e+11   \n",
            "Total Debt              1.608620e+11  1.511070e+11  1.404740e+11   \n",
            "\n",
            "                          2021-12-31  2020-12-31  \n",
            "Treasury Shares Number           NaN         NaN  \n",
            "Ordinary Shares Number  4.121000e+09         NaN  \n",
            "Share Issued            4.121000e+09         NaN  \n",
            "Net Debt                1.175520e+11         NaN  \n",
            "Total Debt              1.394850e+11         NaN  \n"
          ]
        }
      ]
    },
    {
      "cell_type": "code",
      "source": [
        "# gm : compte de résultat + bilan\n",
        "gm_summary = tesla_income[['Total Revenue', 'Net Income', 'Operating Income']].copy()\n",
        "gm_summary['Total Assets'] = tesla_balance['Total Assets']\n",
        "gm_summary['Total Liabilities'] = tesla_balance['Total Liabilities Net Minority Interest']\n",
        "gm_summary['Total Equity'] = tesla_balance['Stockholders Equity']\n",
        "print(gm_summary.head())"
      ],
      "metadata": {
        "colab": {
          "base_uri": "https://localhost:8080/"
        },
        "id": "7wanKWfZqTR-",
        "outputId": "8fc138a2-b2f4-4324-dcb3-77563b7c1c88"
      },
      "execution_count": 49,
      "outputs": [
        {
          "output_type": "stream",
          "name": "stdout",
          "text": [
            "            Total Revenue    Net Income  Operating Income  Total Assets  \\\n",
            "2024-12-31   9.769000e+10  7.130000e+09      7.760000e+09  1.220700e+11   \n",
            "2023-12-31   9.677300e+10  1.499900e+10      8.891000e+09  1.066180e+11   \n",
            "2022-12-31   8.146200e+10  1.258300e+10      1.383200e+10  8.233800e+10   \n",
            "2021-12-31   5.382300e+10  5.524000e+09      6.496000e+09  6.213100e+10   \n",
            "2020-12-31            NaN           NaN               NaN           NaN   \n",
            "\n",
            "            Total Liabilities  Total Equity  \n",
            "2024-12-31       4.839000e+10  7.291300e+10  \n",
            "2023-12-31       4.300900e+10  6.263400e+10  \n",
            "2022-12-31       3.644000e+10  4.470400e+10  \n",
            "2021-12-31       3.054800e+10  3.018900e+10  \n",
            "2020-12-31                NaN           NaN  \n"
          ]
        }
      ]
    },
    {
      "cell_type": "code",
      "source": [
        "gm_summary = gm_summary.dropna(subset=['Total Revenue', 'Net Income', 'Total Assets'])\n",
        "print(gm_summary.head())"
      ],
      "metadata": {
        "colab": {
          "base_uri": "https://localhost:8080/"
        },
        "id": "8oBLLtFOqz9n",
        "outputId": "cabb4aa7-f6cc-4a76-91f7-66849b78f7b3"
      },
      "execution_count": 51,
      "outputs": [
        {
          "output_type": "stream",
          "name": "stdout",
          "text": [
            "            Total Revenue    Net Income  Operating Income  Total Assets  \\\n",
            "2024-12-31   9.769000e+10  7.130000e+09      7.760000e+09  1.220700e+11   \n",
            "2023-12-31   9.677300e+10  1.499900e+10      8.891000e+09  1.066180e+11   \n",
            "2022-12-31   8.146200e+10  1.258300e+10      1.383200e+10  8.233800e+10   \n",
            "2021-12-31   5.382300e+10  5.524000e+09      6.496000e+09  6.213100e+10   \n",
            "\n",
            "            Total Liabilities  Total Equity  \n",
            "2024-12-31       4.839000e+10  7.291300e+10  \n",
            "2023-12-31       4.300900e+10  6.263400e+10  \n",
            "2022-12-31       3.644000e+10  4.470400e+10  \n",
            "2021-12-31       3.054800e+10  3.018900e+10  \n"
          ]
        }
      ]
    },
    {
      "cell_type": "code",
      "source": [
        "gm_summary.to_csv('gm_summary_fixed.csv')\n"
      ],
      "metadata": {
        "id": "2kT5i7YqrUmp"
      },
      "execution_count": 52,
      "outputs": []
    },
    {
      "cell_type": "code",
      "source": [
        "gm_check = pd.read_csv('gm_summary_fixed.csv', index_col=0)\n",
        "print(gm_check)"
      ],
      "metadata": {
        "colab": {
          "base_uri": "https://localhost:8080/"
        },
        "id": "UJquK5D7re3q",
        "outputId": "572089c4-349e-4473-8ea0-91310c229a9d"
      },
      "execution_count": 53,
      "outputs": [
        {
          "output_type": "stream",
          "name": "stdout",
          "text": [
            "            Total Revenue    Net Income  Operating Income  Total Assets  \\\n",
            "2024-12-31   9.769000e+10  7.130000e+09      7.760000e+09  1.220700e+11   \n",
            "2023-12-31   9.677300e+10  1.499900e+10      8.891000e+09  1.066180e+11   \n",
            "2022-12-31   8.146200e+10  1.258300e+10      1.383200e+10  8.233800e+10   \n",
            "2021-12-31   5.382300e+10  5.524000e+09      6.496000e+09  6.213100e+10   \n",
            "\n",
            "            Total Liabilities  Total Equity  \n",
            "2024-12-31       4.839000e+10  7.291300e+10  \n",
            "2023-12-31       4.300900e+10  6.263400e+10  \n",
            "2022-12-31       3.644000e+10  4.470400e+10  \n",
            "2021-12-31       3.054800e+10  3.018900e+10  \n"
          ]
        }
      ]
    }
  ]
}